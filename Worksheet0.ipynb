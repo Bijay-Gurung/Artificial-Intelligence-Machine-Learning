{
  "nbformat": 4,
  "nbformat_minor": 0,
  "metadata": {
    "colab": {
      "provenance": []
    },
    "kernelspec": {
      "name": "python3",
      "display_name": "Python 3"
    },
    "language_info": {
      "name": "python"
    }
  },
  "cells": [
    {
      "cell_type": "markdown",
      "source": [
        "Name : Bijay Gurung\n",
        "\n",
        "UniID: 2357590\n",
        "\n",
        "Class: L6CG19"
      ],
      "metadata": {
        "id": "AsMkno9Hiw9W"
      }
    },
    {
      "cell_type": "markdown",
      "source": [
        "Task 1: Create a python program that converts between different units of measurement."
      ],
      "metadata": {
        "id": "M-T92JzAi7qD"
      }
    },
    {
      "cell_type": "code",
      "source": [
        "def main():\n",
        "  \"\"\"\n",
        "  Here, it ask user to select the conversion type and again it ask user to input the value after that it perform the conversion and display the result.\n",
        "  \"\"\"\n",
        "  print(\"Select the Conversion Type\")\n",
        "  print(\"\\n1. Length\")\n",
        "  print(\"2. Weight\")\n",
        "  print(\"3. Volume\")\n",
        "  print(\"4. quit\\n\")\n",
        "\n",
        "  while True:\n",
        "    try:\n",
        "      choice = int(input(\">\"))\n",
        "      if (choice == 4):\n",
        "        break\n",
        "      elif (choice==0 or choice>4):\n",
        "        print(\"Please enter the number from the given option\")\n",
        "        continue\n",
        "      break\n",
        "    except ValueError:\n",
        "      print(\"Please enter the number from the given option\")\n",
        "\n",
        "  if(choice == 1):\n",
        "    while True:\n",
        "      try:\n",
        "        print(\"\\nEnter Length in meter: \")\n",
        "        l = float(input(\">\"))\n",
        "\n",
        "        #Converting from m to ft\n",
        "        ft = l * 3.28084\n",
        "        print(f\"ft: {ft}\")\n",
        "        break\n",
        "      except ValueError:\n",
        "        print(\"Please Enter the Length in meter\")\n",
        "    return l\n",
        "\n",
        "\n",
        "  elif(choice == 2):\n",
        "    while True:\n",
        "      try:\n",
        "        print(\"\\nEnter Weight in Kilogram: \")\n",
        "        w = float(input(\">\"))\n",
        "\n",
        "        #Converting from kg to lbs\n",
        "        lbs = w * 2.20462\n",
        "        print(f\"lbs: {lbs}\")\n",
        "        break\n",
        "      except ValueError:\n",
        "        print(\"Please enter the weight in Kilogram\")\n",
        "    return w\n",
        "\n",
        "  elif(choice == 3):\n",
        "    while True:\n",
        "      try:\n",
        "        print(\"\\nEnter Volume in liters: \")\n",
        "        v = float(input(\">\"))\n",
        "\n",
        "        #Converting from l to gal\n",
        "        gal = v * 0.264172\n",
        "        print(f\"gal: {gal}\")\n",
        "        break\n",
        "      except ValueError:\n",
        "        print(\"Please enter the Volume in liters\")\n",
        "\n",
        "if __name__ == \"__main__\":\n",
        "  main()"
      ],
      "metadata": {
        "colab": {
          "base_uri": "https://localhost:8080/"
        },
        "id": "FTTKgkuu6cdB",
        "outputId": "4f2183b4-42dd-473d-eefc-ee4f18e6f399"
      },
      "execution_count": null,
      "outputs": [
        {
          "output_type": "stream",
          "name": "stdout",
          "text": [
            "Select the Conversion Type\n",
            "\n",
            "1. Length\n",
            "2. Weight\n",
            "3. Volume\n",
            "4. quit\n",
            "\n",
            ">1\n",
            "\n",
            "Enter Length in meter: \n",
            ">10\n",
            "ft: 32.8084\n"
          ]
        }
      ]
    },
    {
      "cell_type": "markdown",
      "source": [
        "Task2: Create a python program that performs various mathematical operations on a list of numbers."
      ],
      "metadata": {
        "id": "9-21nT17ACPN"
      }
    },
    {
      "cell_type": "code",
      "source": [
        "def choice():\n",
        "  print(\"Choose from the given option\\n\")\n",
        "  print(\"1. Sum\\n\")\n",
        "  print(\"2. average\\n\")\n",
        "  print(\"3. maximum\\n\")\n",
        "  print(\"4. minimum\\n\")\n",
        "  print(\"5. quit\")\n",
        "\n",
        "  while True:\n",
        "    try:\n",
        "      choice = int(input(\">\"))\n",
        "\n",
        "      if(choice<1 or choice>5):\n",
        "        print(\"Please select from the given option\")\n",
        "        continue\n",
        "\n",
        "      if(choice == 5):\n",
        "        break\n",
        "\n",
        "      break\n",
        "    except ValueError:\n",
        "      print(\"Please select from the given option\")\n",
        "  return choice\n",
        "\n",
        "\n",
        "def sumNumbers(choice):\n",
        "  \"\"\"\n",
        "  Here, it calculate the sum of the list of number\n",
        "  \"\"\"\n",
        "  if(choice ==1):\n",
        "    numList = []\n",
        "    print(\"Enter the lists of number\")\n",
        "    while True:\n",
        "      n = input(\">\")\n",
        "      if(n.lower() == \"done\"):\n",
        "        break\n",
        "      num = int(n)\n",
        "      numList.append(num)\n",
        "\n",
        "    totalSum = 0\n",
        "    for i in numList:\n",
        "      totalSum += i\n",
        "    print(f\"Sum: {totalSum}\")\n",
        "\n",
        "\n",
        "choice = choice()\n",
        "sumNumbers(choice)\n",
        "\n",
        "def averageNumbers(choice):\n",
        "  \"\"\"\n",
        "  Here, it calculates the average of the list of number\n",
        "  \"\"\"\n",
        "  if(choice ==2):\n",
        "    numList = []\n",
        "    print(\"Enter the lists of number\")\n",
        "    while True:\n",
        "      n = input(\">\")\n",
        "      if(n.lower() == \"done\"):\n",
        "        break\n",
        "      num = int(n)\n",
        "      numList.append(num)\n",
        "\n",
        "    totalSum = 0\n",
        "    for i in numList:\n",
        "      totalSum += i\n",
        "\n",
        "    totalAverage = totalSum/len(numList)\n",
        "    print(f\"Average: {totalAverage}\")\n",
        "\n",
        "averageNumbers(choice)\n",
        "\n",
        "def maxNumbers(choice):\n",
        "  \"\"\"\n",
        "  Here, it calculates the maximum of the list of number\n",
        "  \"\"\"\n",
        "  if(choice==3):\n",
        "    numList = []\n",
        "    max = 0\n",
        "    print(\"Enter the lists of number\")\n",
        "    while True:\n",
        "      n = input(\">\")\n",
        "      if(n.lower() == \"done\"):\n",
        "        break\n",
        "      num = int(n)\n",
        "      numList.append(num)\n",
        "\n",
        "    max = numList[0]\n",
        "    for i in numList:\n",
        "      if(i>max):\n",
        "        max = i\n",
        "    print(f\"Maximum: {max}\")\n",
        "\n",
        "maxNumbers(choice)\n",
        "\n",
        "def minNumbers(choice):\n",
        "  \"\"\"\n",
        "  Here, it calculates the minimum of the list of number\n",
        "  \"\"\"\n",
        "  if(choice==4):\n",
        "    numList = []\n",
        "    max = 0\n",
        "    print(\"Enter the lists of number\")\n",
        "    while True:\n",
        "      n = input(\">\")\n",
        "      if(n.lower() == \"done\"):\n",
        "        break\n",
        "      num = int(n)\n",
        "      numList.append(num)\n",
        "\n",
        "    min = numList[0]\n",
        "    for i in numList:\n",
        "      if(i<min):\n",
        "        min = i\n",
        "    print(f\"Minimum: {min}\")\n",
        "minNumbers(choice)"
      ],
      "metadata": {
        "colab": {
          "base_uri": "https://localhost:8080/"
        },
        "id": "9YriPE-MABva",
        "outputId": "b2079bef-d550-4fd7-8b3b-69bf17a370c4"
      },
      "execution_count": null,
      "outputs": [
        {
          "output_type": "stream",
          "name": "stdout",
          "text": [
            "Choose from the given option\n",
            "\n",
            "1. Sum\n",
            "\n",
            "2. average\n",
            "\n",
            "3. maximum\n",
            "\n",
            "4. minimum\n",
            "\n",
            "5. quit\n",
            ">2\n",
            "Enter the lists of number\n",
            ">1\n",
            ">2\n",
            ">3\n",
            ">4\n",
            ">5\n",
            ">done\n",
            "Average: 3.0\n"
          ]
        }
      ]
    },
    {
      "cell_type": "markdown",
      "source": [
        "Task 3: Reverse a List using Slicing"
      ],
      "metadata": {
        "id": "WpQt7mYBo1eN"
      }
    },
    {
      "cell_type": "code",
      "source": [
        "lst = [1,2,3,4,5]\n",
        "\n",
        "def reverse_list(lst):\n",
        "  \"\"\"\n",
        "  This function reverse the list using slicing\n",
        "  \"\"\"\n",
        "  reverse = lst[::-1]\n",
        "  print(reverse)\n",
        "reverse_list(lst)"
      ],
      "metadata": {
        "colab": {
          "base_uri": "https://localhost:8080/"
        },
        "id": "Sr5KnaZJo-m3",
        "outputId": "24b71b48-33ee-4bed-d56a-4db095d40618"
      },
      "execution_count": null,
      "outputs": [
        {
          "output_type": "stream",
          "name": "stdout",
          "text": [
            "[5, 4, 3, 2, 1]\n"
          ]
        }
      ]
    },
    {
      "cell_type": "markdown",
      "source": [
        "Task 4: Remove the first and last element"
      ],
      "metadata": {
        "id": "seff3k5fsHlQ"
      }
    },
    {
      "cell_type": "code",
      "source": [
        "lst = [1,2,3,4,5]\n",
        "\n",
        "def remove_first_last(lst):\n",
        "  \"\"\"\n",
        "  here, it remove the first and last element from the list using slicing\n",
        "  \"\"\"\n",
        "  newlst = lst[1:4]\n",
        "  print(newlst)\n",
        "\n",
        "remove_first_last(lst)"
      ],
      "metadata": {
        "colab": {
          "base_uri": "https://localhost:8080/"
        },
        "id": "jDWQVBixsHK-",
        "outputId": "9aa3c66b-cb36-4d74-df74-4a5ff054af76"
      },
      "execution_count": null,
      "outputs": [
        {
          "output_type": "stream",
          "name": "stdout",
          "text": [
            "[2, 3, 4]\n"
          ]
        }
      ]
    },
    {
      "cell_type": "markdown",
      "source": [
        "Task 5: Get the first n Elements"
      ],
      "metadata": {
        "id": "uv9GC67fuBhi"
      }
    },
    {
      "cell_type": "code",
      "source": [
        "lst1 = [1,2,3,4,5]\n",
        "n = int(input(\"Enter the number: \"))\n",
        "\n",
        "def get_first_n(ls1):\n",
        "  newList = lst1[:n:]\n",
        "  print(newList)\n",
        "\n",
        "get_first_n(lst1)"
      ],
      "metadata": {
        "colab": {
          "base_uri": "https://localhost:8080/"
        },
        "id": "n5zlo4jjtSTY",
        "outputId": "d50762e5-0db4-4ef6-8db1-2ac042e5f3b8"
      },
      "execution_count": null,
      "outputs": [
        {
          "output_type": "stream",
          "name": "stdout",
          "text": [
            "Enter the number: 3\n",
            "[1, 2, 3]\n"
          ]
        }
      ]
    },
    {
      "cell_type": "markdown",
      "source": [
        "Task 6: Extract Element from the end"
      ],
      "metadata": {
        "id": "6nFgDdHbv-C0"
      }
    },
    {
      "cell_type": "code",
      "source": [
        "lst = [1,2,3,4,5]\n",
        "n = int(input(\"Enter the number: \"))\n",
        "\n",
        "def get_last_n(lst,n):\n",
        "  newList = lst[-n::]\n",
        "  print(newList)\n",
        "\n",
        "get_last_n(lst,n)"
      ],
      "metadata": {
        "colab": {
          "base_uri": "https://localhost:8080/"
        },
        "id": "Hvl6MK2Wv9W5",
        "outputId": "b896fc54-1626-404f-ad1d-54d22c09b56c"
      },
      "execution_count": null,
      "outputs": [
        {
          "output_type": "stream",
          "name": "stdout",
          "text": [
            "Enter the number: 2\n",
            "[4, 5]\n"
          ]
        }
      ]
    },
    {
      "cell_type": "markdown",
      "source": [
        "Task 7: Extract Elements in Reverse Order"
      ],
      "metadata": {
        "id": "YJp0T0Ju2Xt-"
      }
    },
    {
      "cell_type": "code",
      "source": [
        "lst = [1,2,3,4,5,6]\n",
        "\n",
        "def reverse_skip(lst):\n",
        "  new_list = lst[-2::-2]\n",
        "  print(new_list)\n",
        "\n",
        "reverse_skip(lst)"
      ],
      "metadata": {
        "colab": {
          "base_uri": "https://localhost:8080/"
        },
        "id": "lSdpQG1X2gUH",
        "outputId": "d04559d8-f94c-43df-acd9-32443cd009be"
      },
      "execution_count": null,
      "outputs": [
        {
          "output_type": "stream",
          "name": "stdout",
          "text": [
            "[5, 3, 1]\n"
          ]
        }
      ]
    },
    {
      "cell_type": "markdown",
      "source": [
        "Exercise on Nested List"
      ],
      "metadata": {
        "id": "0YSeC8pV4muP"
      }
    },
    {
      "cell_type": "markdown",
      "source": [
        "1. Flatten a Nested List"
      ],
      "metadata": {
        "id": "p0klHk0oA0M_"
      }
    },
    {
      "cell_type": "code",
      "source": [
        "lst = [[1,2], [3,4], [5]]\n",
        "\n",
        "def flatten(lst):\n",
        "  new_list = []\n",
        "  for i in lst:\n",
        "    for j in i:\n",
        "      new_list.append(j)\n",
        "  print(new_list)\n",
        "flatten(lst)"
      ],
      "metadata": {
        "colab": {
          "base_uri": "https://localhost:8080/"
        },
        "id": "3N0gPrz94pjh",
        "outputId": "74efcd3c-7959-4ae8-f1f2-acd5d6ee2384"
      },
      "execution_count": null,
      "outputs": [
        {
          "output_type": "stream",
          "name": "stdout",
          "text": [
            "[1, 2, 3, 4, 5]\n"
          ]
        }
      ]
    },
    {
      "cell_type": "markdown",
      "source": [
        "2. Accessing Nested List Elements"
      ],
      "metadata": {
        "id": "NkGEmYepBWmZ"
      }
    },
    {
      "cell_type": "code",
      "source": [
        "lst = [[1,2,3], [4,5,6], [7,8,9]]\n",
        "indices = [1,2]\n",
        "\n",
        "def access_nested_element(lst,indices):\n",
        "  result = lst[indices[0]][indices[1]]\n",
        "  print(result)\n",
        "access_nested_element(lst, indices)"
      ],
      "metadata": {
        "colab": {
          "base_uri": "https://localhost:8080/"
        },
        "id": "QyiPQLVaBV1L",
        "outputId": "66884b6a-e6f3-4971-a2d1-0f543f866ab9"
      },
      "execution_count": null,
      "outputs": [
        {
          "output_type": "stream",
          "name": "stdout",
          "text": [
            "6\n"
          ]
        }
      ]
    },
    {
      "cell_type": "markdown",
      "source": [
        "3. Sum of All Elements in a Nested List"
      ],
      "metadata": {
        "id": "ZrRZfVOQDKpQ"
      }
    },
    {
      "cell_type": "code",
      "source": [
        "nested_list = [[1, 2], [3, [4, 5]], 6]\n",
        "\n",
        "def sum_nested_element(lst):\n",
        "    total = 0\n",
        "    for item in lst:\n",
        "        if isinstance(item, list):\n",
        "            total += sum_nested_element(item)\n",
        "        else:\n",
        "            total += item\n",
        "    return total\n",
        "\n",
        "result = sum_nested_element(nested_list)\n",
        "print(result)\n"
      ],
      "metadata": {
        "colab": {
          "base_uri": "https://localhost:8080/"
        },
        "id": "JHTYeI3nDFsa",
        "outputId": "ef4498c6-7465-4a27-e1e8-81f6b0deb6e7"
      },
      "execution_count": null,
      "outputs": [
        {
          "output_type": "stream",
          "name": "stdout",
          "text": [
            "21\n"
          ]
        }
      ]
    },
    {
      "cell_type": "markdown",
      "source": [
        "4. Remove Specific Element from a Nested List"
      ],
      "metadata": {
        "id": "hsIEwNj-H8Nt"
      }
    },
    {
      "cell_type": "code",
      "source": [
        "lst = [[1, 2], [3, 2], [4, 5]]\n",
        "elem = 2\n",
        "\n",
        "def remove_element(lst, elem):\n",
        "  for i in lst:\n",
        "    if elem in i:\n",
        "      i.remove(elem)\n",
        "  print(lst)\n",
        "remove_element(lst, elem)"
      ],
      "metadata": {
        "colab": {
          "base_uri": "https://localhost:8080/"
        },
        "id": "QkVSwORNHR_2",
        "outputId": "a40989bc-502a-442c-eb2d-b13349b15ef8"
      },
      "execution_count": null,
      "outputs": [
        {
          "output_type": "stream",
          "name": "stdout",
          "text": [
            "[[1], [3], [4, 5]]\n"
          ]
        }
      ]
    },
    {
      "cell_type": "markdown",
      "source": [
        "5. Find the maximum element in a nested list"
      ],
      "metadata": {
        "id": "ZtTjGcIaIvR_"
      }
    },
    {
      "cell_type": "code",
      "source": [
        "nested_list = [[1, 2], [3, [4, 5]], 6]\n",
        "\n",
        "def find_max(lst):\n",
        "    maximum = 0\n",
        "    for i in lst:\n",
        "        if isinstance(i, list):\n",
        "            maximum = max(maximum, find_max(i))\n",
        "        else:\n",
        "            maximum = max(maximum, i)\n",
        "    return maximum\n",
        "\n",
        "result = find_max(nested_list)\n",
        "print(result)\n"
      ],
      "metadata": {
        "colab": {
          "base_uri": "https://localhost:8080/"
        },
        "id": "_gDj8Nc3I1MN",
        "outputId": "14b8d6e8-ad23-4434-ea37-835340691100"
      },
      "execution_count": null,
      "outputs": [
        {
          "output_type": "stream",
          "name": "stdout",
          "text": [
            "6\n"
          ]
        }
      ]
    },
    {
      "cell_type": "markdown",
      "source": [
        "6.  Count Occurrences of an Element in a Nested List"
      ],
      "metadata": {
        "id": "J7qREJh5Me96"
      }
    },
    {
      "cell_type": "code",
      "source": [
        "lst = [[1,2], [2,3], [2,4]]\n",
        "elem = 2\n",
        "\n",
        "def count_occurance(lst, elem):\n",
        "  count = 0\n",
        "  for i in lst:\n",
        "    if isinstance(i, list):\n",
        "      count += count_occurance(i, elem)\n",
        "    else:\n",
        "      if i == elem:\n",
        "        count += 1\n",
        "  return count\n",
        "result = count_occurance(lst, elem)\n",
        "print(result)"
      ],
      "metadata": {
        "colab": {
          "base_uri": "https://localhost:8080/"
        },
        "id": "O4m-giQ-Mg11",
        "outputId": "af54a10c-2ec7-4dea-8d63-c640fcff6293"
      },
      "execution_count": null,
      "outputs": [
        {
          "output_type": "stream",
          "name": "stdout",
          "text": [
            "3\n"
          ]
        }
      ]
    },
    {
      "cell_type": "markdown",
      "source": [
        "7. Flatten a List of Lists of Lists"
      ],
      "metadata": {
        "id": "hW9XEpXAORM6"
      }
    },
    {
      "cell_type": "code",
      "source": [
        "lst = [[[1, 2], [3, 4]], [[5, 6], [7, 8]]]\n",
        "\n",
        "def deep_flatten(lst):\n",
        "  newlst = []\n",
        "  for i in lst:\n",
        "    if isinstance(i, list):\n",
        "      newlst.extend(deep_flatten(i))\n",
        "    else:\n",
        "      newlst.append(i)\n",
        "  return newlst\n",
        "\n",
        "result = deep_flatten(lst)\n",
        "print(result)"
      ],
      "metadata": {
        "colab": {
          "base_uri": "https://localhost:8080/"
        },
        "id": "rlc9CbCSOTAZ",
        "outputId": "764ffbc7-2f50-4755-c71c-b0c95b560680"
      },
      "execution_count": null,
      "outputs": [
        {
          "output_type": "stream",
          "name": "stdout",
          "text": [
            "[1, 2, 3, 4, 5, 6, 7, 8]\n"
          ]
        }
      ]
    },
    {
      "cell_type": "markdown",
      "source": [
        "8. Nested List Average"
      ],
      "metadata": {
        "id": "9v_Z34kzQL9F"
      }
    },
    {
      "cell_type": "code",
      "source": [
        "lst = [[1, 2], [3, 4], [5, 6]]\n",
        "\n",
        "def average_nested(lst):\n",
        "  newlst = []\n",
        "  totalSum = 0\n",
        "\n",
        "  for i in lst:\n",
        "    for j in i:\n",
        "      newlst.append(j)\n",
        "\n",
        "  for k in newlst:\n",
        "    totalSum += k\n",
        "\n",
        "  average = totalSum/len(newlst)\n",
        "  print(average)\n",
        "\n",
        "average_nested(lst)\n"
      ],
      "metadata": {
        "colab": {
          "base_uri": "https://localhost:8080/"
        },
        "id": "LwBkUT0YQSlW",
        "outputId": "f17a3858-b5c2-4939-ad74-9cc6ad78bb60"
      },
      "execution_count": null,
      "outputs": [
        {
          "output_type": "stream",
          "name": "stdout",
          "text": [
            "3.5\n"
          ]
        }
      ]
    },
    {
      "cell_type": "markdown",
      "source": [
        "Numpy"
      ],
      "metadata": {
        "id": "KgHxQWTJb4gl"
      }
    },
    {
      "cell_type": "markdown",
      "source": [
        "Basic Vector and Matrix Operation with Numpy."
      ],
      "metadata": {
        "id": "f2RFkqpMdKPp"
      }
    },
    {
      "cell_type": "markdown",
      "source": [
        "Problem 1: Array Creation"
      ],
      "metadata": {
        "id": "SjIslASVdK-q"
      }
    },
    {
      "cell_type": "code",
      "source": [
        "import numpy as np"
      ],
      "metadata": {
        "id": "z4CwB61nb6vG"
      },
      "execution_count": null,
      "outputs": []
    },
    {
      "cell_type": "code",
      "source": [
        "# Initialize an empty array with size 2x2\n",
        "emptyArr = np.empty((2,2))\n",
        "print(f\"Empty Array: {emptyArr}\")"
      ],
      "metadata": {
        "colab": {
          "base_uri": "https://localhost:8080/"
        },
        "id": "w9XH5vGbdTOG",
        "outputId": "415e5c9f-9802-4702-a948-12b22fbd17ed"
      },
      "execution_count": null,
      "outputs": [
        {
          "output_type": "stream",
          "name": "stdout",
          "text": [
            "Empty Array: [[5.07863318e-316 0.00000000e+000]\n",
            " [5.33590898e-322 4.22972498e-307]]\n"
          ]
        }
      ]
    },
    {
      "cell_type": "code",
      "source": [
        "# Initialize an all ones array with size 4x2\n",
        "oneArr = np.ones((4,2))\n",
        "print(f\"All Ones Array: {oneArr}\")"
      ],
      "metadata": {
        "colab": {
          "base_uri": "https://localhost:8080/"
        },
        "id": "ImlOoEjgejtN",
        "outputId": "d1edbef6-a86e-4e83-b8f9-4359aa74bc37"
      },
      "execution_count": null,
      "outputs": [
        {
          "output_type": "stream",
          "name": "stdout",
          "text": [
            "All Ones Array: [[1. 1.]\n",
            " [1. 1.]\n",
            " [1. 1.]\n",
            " [1. 1.]]\n"
          ]
        }
      ]
    },
    {
      "cell_type": "code",
      "source": [
        "# Return a new array of given shape and type, filled with a fill value\n",
        "fillArr = np.full((3,3), 5)\n",
        "print(f\"Fill Array: {fillArr}\")"
      ],
      "metadata": {
        "colab": {
          "base_uri": "https://localhost:8080/"
        },
        "id": "bVrRUZI0e6rj",
        "outputId": "ea5f075c-4b8f-46ff-caad-6bad76416b15"
      },
      "execution_count": null,
      "outputs": [
        {
          "output_type": "stream",
          "name": "stdout",
          "text": [
            "Fill Array: [[5 5 5]\n",
            " [5 5 5]\n",
            " [5 5 5]]\n"
          ]
        }
      ]
    },
    {
      "cell_type": "code",
      "source": [
        "# Return a new array of zeros with the same shape and type as a given array\n",
        "arr = np.array([[1,2,3], [4,5,6]])\n",
        "newArr = np.zeros_like(arr)\n",
        "print(f\"Zero Array: {newArr}\")"
      ],
      "metadata": {
        "colab": {
          "base_uri": "https://localhost:8080/"
        },
        "id": "bTScs6DQfH7d",
        "outputId": "82ce10a1-0313-4be1-8b0a-d41f17002fdc"
      },
      "execution_count": null,
      "outputs": [
        {
          "output_type": "stream",
          "name": "stdout",
          "text": [
            "Zero Array: [[0 0 0]\n",
            " [0 0 0]]\n"
          ]
        }
      ]
    },
    {
      "cell_type": "code",
      "source": [
        "# Return a new array of ones with same shape and type as a given array\n",
        "arr = np.array([[1,2,3], [4,5,6]])\n",
        "newArr = np.ones_like(arr)\n",
        "print(f\"Ones Array: {newArr}\")"
      ],
      "metadata": {
        "colab": {
          "base_uri": "https://localhost:8080/"
        },
        "id": "Q1hzwA0ffodd",
        "outputId": "659a3c6f-92c4-47d1-bb0f-6f5ae996ef46"
      },
      "execution_count": null,
      "outputs": [
        {
          "output_type": "stream",
          "name": "stdout",
          "text": [
            "Ones Array: [[1 1 1]\n",
            " [1 1 1]]\n"
          ]
        }
      ]
    },
    {
      "cell_type": "code",
      "source": [
        "# For an existing list new_list = [1,2,3,4] convert to an numpy array\n",
        "new_list = [1,2,3,4]\n",
        "arr = np.array(new_list)\n",
        "print(f\"Numpy Array: {arr}\")"
      ],
      "metadata": {
        "colab": {
          "base_uri": "https://localhost:8080/"
        },
        "id": "E68_Cwnbf6ok",
        "outputId": "01c20d2a-4907-43e7-f322-c12c75663589"
      },
      "execution_count": null,
      "outputs": [
        {
          "output_type": "stream",
          "name": "stdout",
          "text": [
            "Numpy Array: [1 2 3 4]\n"
          ]
        }
      ]
    },
    {
      "cell_type": "markdown",
      "source": [
        "Problem 2"
      ],
      "metadata": {
        "id": "q77vFdUQgWBl"
      }
    },
    {
      "cell_type": "code",
      "source": [
        "# Create an array with values ranging from 10 to 49.\n",
        "arr = np.arange(10, 50)\n",
        "print(arr)"
      ],
      "metadata": {
        "colab": {
          "base_uri": "https://localhost:8080/"
        },
        "id": "2cxd9yDMgVns",
        "outputId": "aaefd96c-b011-4b77-e30d-94806e735142"
      },
      "execution_count": null,
      "outputs": [
        {
          "output_type": "stream",
          "name": "stdout",
          "text": [
            "[10 11 12 13 14 15 16 17 18 19 20 21 22 23 24 25 26 27 28 29 30 31 32 33\n",
            " 34 35 36 37 38 39 40 41 42 43 44 45 46 47 48 49]\n"
          ]
        }
      ]
    },
    {
      "cell_type": "code",
      "source": [
        "# Create a 3X3 matrix with values ranging from 0 to 8.\n",
        "mat = np.arange(0,9).reshape(3,3)\n",
        "print(mat)"
      ],
      "metadata": {
        "colab": {
          "base_uri": "https://localhost:8080/"
        },
        "id": "A0lwryeSglsO",
        "outputId": "b725fa17-a72d-48de-f694-cca4bdf9a1de"
      },
      "execution_count": null,
      "outputs": [
        {
          "output_type": "stream",
          "name": "stdout",
          "text": [
            "[[0 1 2]\n",
            " [3 4 5]\n",
            " [6 7 8]]\n"
          ]
        }
      ]
    },
    {
      "cell_type": "code",
      "source": [
        "# Create a 3X3 identity matrix.\n",
        "i = np.eye(3)\n",
        "print(i)"
      ],
      "metadata": {
        "colab": {
          "base_uri": "https://localhost:8080/"
        },
        "id": "3xcdIWIUgpx8",
        "outputId": "5d97af01-64c1-416e-8f08-ee531f745c03"
      },
      "execution_count": null,
      "outputs": [
        {
          "output_type": "stream",
          "name": "stdout",
          "text": [
            "[[1. 0. 0.]\n",
            " [0. 1. 0.]\n",
            " [0. 0. 1.]]\n"
          ]
        }
      ]
    },
    {
      "cell_type": "code",
      "source": [
        "# Create a random array of size 30 and find the mean of the array.\n",
        "randomArr = np.random.random(30)\n",
        "mean = np.mean(randomArr)\n",
        "print(f\"Mean: {mean}\")"
      ],
      "metadata": {
        "colab": {
          "base_uri": "https://localhost:8080/"
        },
        "id": "yRp_GqpBguGA",
        "outputId": "5153ed38-ca0d-403a-c456-601437d37664"
      },
      "execution_count": null,
      "outputs": [
        {
          "output_type": "stream",
          "name": "stdout",
          "text": [
            "Mean: 0.5141679174763646\n"
          ]
        }
      ]
    },
    {
      "cell_type": "code",
      "source": [
        "# Create a 10X10 array with random values and find the minimum and maximum values.\n",
        "randomMat = np.random.random((10,10))\n",
        "min = randomMat.min()\n",
        "max = randomMat.max()\n",
        "print(f\"Minimum: {min}\")\n",
        "print(f\"Maximum: {max}\")"
      ],
      "metadata": {
        "colab": {
          "base_uri": "https://localhost:8080/"
        },
        "id": "PGil2m5wgxuj",
        "outputId": "5e0753ae-1277-43db-e3e1-121ff0a56bca"
      },
      "execution_count": null,
      "outputs": [
        {
          "output_type": "stream",
          "name": "stdout",
          "text": [
            "Minimum: 0.006338869296837024\n",
            "Maximum: 0.9906734414162869\n"
          ]
        }
      ]
    },
    {
      "cell_type": "code",
      "source": [
        "# Create a zero array of size 10 and replace 5th element with 1.\n",
        "zeroArr = np.zeros(10)\n",
        "zeroArr[4] = 1\n",
        "print(zeroArr)"
      ],
      "metadata": {
        "colab": {
          "base_uri": "https://localhost:8080/"
        },
        "id": "yMmoywvfg4so",
        "outputId": "dc18a1cb-35a3-46be-97d1-bd3ee96568ad"
      },
      "execution_count": null,
      "outputs": [
        {
          "output_type": "stream",
          "name": "stdout",
          "text": [
            "[0. 0. 0. 0. 1. 0. 0. 0. 0. 0.]\n"
          ]
        }
      ]
    },
    {
      "cell_type": "code",
      "source": [
        "# Reverse an array arr = [1,2,0,0,4,0].\n",
        "reverse = np.array([1,2,0,0,4,0])\n",
        "reverse = reverse[::-1]\n",
        "print(reverse)"
      ],
      "metadata": {
        "colab": {
          "base_uri": "https://localhost:8080/"
        },
        "id": "sHaLpzFJhY9n",
        "outputId": "38066c85-917f-4bb7-f7e2-b2c833b52269"
      },
      "execution_count": null,
      "outputs": [
        {
          "output_type": "stream",
          "name": "stdout",
          "text": [
            "[0 4 0 0 2 1]\n"
          ]
        }
      ]
    },
    {
      "cell_type": "code",
      "source": [
        "# Create a 2d array with 1 on border and 0 inside.\n",
        "arr = np.ones((5,5))\n",
        "arr[1:-1, 1:-1] = 0\n",
        "print(arr)"
      ],
      "metadata": {
        "colab": {
          "base_uri": "https://localhost:8080/"
        },
        "id": "LXsw6999hhpn",
        "outputId": "ff81a478-20ac-4d8b-a178-29c8f5487906"
      },
      "execution_count": null,
      "outputs": [
        {
          "output_type": "stream",
          "name": "stdout",
          "text": [
            "[[1. 1. 1. 1. 1.]\n",
            " [1. 0. 0. 0. 1.]\n",
            " [1. 0. 0. 0. 1.]\n",
            " [1. 0. 0. 0. 1.]\n",
            " [1. 1. 1. 1. 1.]]\n"
          ]
        }
      ]
    },
    {
      "cell_type": "code",
      "source": [
        "# Create a 8X8 matrix and fill it with a checkerboard pattern.\n",
        "cb = np.zeros((8,8))\n",
        "cb[1::2, ::2] = 1\n",
        "cb[::2, 1::2] = 1\n",
        "print(cb)"
      ],
      "metadata": {
        "colab": {
          "base_uri": "https://localhost:8080/"
        },
        "id": "h5_bpLS6hj3M",
        "outputId": "4212e270-99d1-4d56-a3b8-8d2215b1e3da"
      },
      "execution_count": null,
      "outputs": [
        {
          "output_type": "stream",
          "name": "stdout",
          "text": [
            "[[0. 1. 0. 1. 0. 1. 0. 1.]\n",
            " [1. 0. 1. 0. 1. 0. 1. 0.]\n",
            " [0. 1. 0. 1. 0. 1. 0. 1.]\n",
            " [1. 0. 1. 0. 1. 0. 1. 0.]\n",
            " [0. 1. 0. 1. 0. 1. 0. 1.]\n",
            " [1. 0. 1. 0. 1. 0. 1. 0.]\n",
            " [0. 1. 0. 1. 0. 1. 0. 1.]\n",
            " [1. 0. 1. 0. 1. 0. 1. 0.]]\n"
          ]
        }
      ]
    },
    {
      "cell_type": "markdown",
      "source": [
        "Problem 3"
      ],
      "metadata": {
        "id": "1toC-r1ojeOg"
      }
    },
    {
      "cell_type": "code",
      "source": [
        "x = np.array([[1, 2], [3, 5]])\n",
        "y = np.array([[5, 6], [7, 8]])\n",
        "v = np.array([9, 10])\n",
        "w = np.array([11, 12])"
      ],
      "metadata": {
        "id": "Ta40ZAcxkGbS"
      },
      "execution_count": null,
      "outputs": []
    },
    {
      "cell_type": "code",
      "source": [
        "# Add the two array\n",
        "add = x + y\n",
        "print(add)"
      ],
      "metadata": {
        "colab": {
          "base_uri": "https://localhost:8080/"
        },
        "id": "xN3a-vs5kKYV",
        "outputId": "7b5b3f52-a9f8-4969-85d6-c75e69d39650"
      },
      "execution_count": null,
      "outputs": [
        {
          "output_type": "stream",
          "name": "stdout",
          "text": [
            "[[ 6  8]\n",
            " [10 13]]\n"
          ]
        }
      ]
    },
    {
      "cell_type": "code",
      "source": [
        "# Subtract the two array\n",
        "sub = v - w\n",
        "print(sub)"
      ],
      "metadata": {
        "colab": {
          "base_uri": "https://localhost:8080/"
        },
        "id": "0ayAOqjxkh7k",
        "outputId": "6e9e933d-8997-4cfe-93e7-4856a213f74a"
      },
      "execution_count": null,
      "outputs": [
        {
          "output_type": "stream",
          "name": "stdout",
          "text": [
            "[-2 -2]\n"
          ]
        }
      ]
    },
    {
      "cell_type": "code",
      "source": [
        "# Multiply the array with any integers of your choice\n",
        "mul = x * 11\n",
        "print(mul)"
      ],
      "metadata": {
        "colab": {
          "base_uri": "https://localhost:8080/"
        },
        "id": "N95DA6Iskqtz",
        "outputId": "648b400d-9824-449b-8448-75cc680a102b"
      },
      "execution_count": null,
      "outputs": [
        {
          "output_type": "stream",
          "name": "stdout",
          "text": [
            "[[11 22]\n",
            " [33 55]]\n"
          ]
        }
      ]
    },
    {
      "cell_type": "code",
      "source": [
        "# Find the square of each element of the array\n",
        "square = np.square(y)\n",
        "print(square)"
      ],
      "metadata": {
        "colab": {
          "base_uri": "https://localhost:8080/"
        },
        "id": "Mbnd1XYLkw6Q",
        "outputId": "b97d585f-05d5-425f-fa97-4b7e71f40ca8"
      },
      "execution_count": null,
      "outputs": [
        {
          "output_type": "stream",
          "name": "stdout",
          "text": [
            "[[25 36]\n",
            " [49 64]]\n"
          ]
        }
      ]
    },
    {
      "cell_type": "code",
      "source": [
        "#  Find the dot product between: v(and)w ; x(and)v ; x(and)y\n",
        "vw = np.dot(v,w)\n",
        "print(vw)"
      ],
      "metadata": {
        "colab": {
          "base_uri": "https://localhost:8080/"
        },
        "id": "s2Q0pkXOlG-C",
        "outputId": "f79b37c5-a752-4867-9b04-9872b3d911e0"
      },
      "execution_count": null,
      "outputs": [
        {
          "output_type": "stream",
          "name": "stdout",
          "text": [
            "219\n"
          ]
        }
      ]
    },
    {
      "cell_type": "code",
      "source": [
        "xv = np.dot(x,v)\n",
        "print(xv)"
      ],
      "metadata": {
        "colab": {
          "base_uri": "https://localhost:8080/"
        },
        "id": "hj2EOPcTllPa",
        "outputId": "99edbba6-b6fc-4d6e-dfbe-d788e3ce9b57"
      },
      "execution_count": null,
      "outputs": [
        {
          "output_type": "stream",
          "name": "stdout",
          "text": [
            "[29 77]\n"
          ]
        }
      ]
    },
    {
      "cell_type": "code",
      "source": [
        "xy = np.dot(x,y)\n",
        "print(xy)"
      ],
      "metadata": {
        "colab": {
          "base_uri": "https://localhost:8080/"
        },
        "id": "YyUZOBa9lpNz",
        "outputId": "1c7c45b4-6e7f-4977-aa2f-82045a19b3f8"
      },
      "execution_count": null,
      "outputs": [
        {
          "output_type": "stream",
          "name": "stdout",
          "text": [
            "[[19 22]\n",
            " [50 58]]\n"
          ]
        }
      ]
    },
    {
      "cell_type": "code",
      "source": [
        "# Concatenate x(and)y along row and Concatenate v(and)w along column. Hint:try np.concatenate() or np.vstack() functions.\n",
        "concatXY = np.concatenate((x,y), axis=0)\n",
        "print(concatXY)"
      ],
      "metadata": {
        "colab": {
          "base_uri": "https://localhost:8080/"
        },
        "id": "Z8JVaP9OlxrF",
        "outputId": "adf42720-c3c8-4a26-ba23-59fd0feda209"
      },
      "execution_count": null,
      "outputs": [
        {
          "output_type": "stream",
          "name": "stdout",
          "text": [
            "[[1 2]\n",
            " [3 5]\n",
            " [5 6]\n",
            " [7 8]]\n"
          ]
        }
      ]
    },
    {
      "cell_type": "code",
      "source": [
        "concatVW = np.vstack((v,w))\n",
        "print(concatVW)"
      ],
      "metadata": {
        "colab": {
          "base_uri": "https://localhost:8080/"
        },
        "id": "WrsjkRCAmM84",
        "outputId": "5a5c00d3-a124-41ee-c416-8b1d0b4c722a"
      },
      "execution_count": null,
      "outputs": [
        {
          "output_type": "stream",
          "name": "stdout",
          "text": [
            "[[ 9 10]\n",
            " [11 12]]\n"
          ]
        }
      ]
    },
    {
      "cell_type": "code",
      "source": [
        "# Concatenate x(and)v; if you get an error, observe and explain why did you get the error?\n",
        "concatXV = np.concatenate((x,v), axis=0)\n",
        "print(concatXV)"
      ],
      "metadata": {
        "colab": {
          "base_uri": "https://localhost:8080/",
          "height": 193
        },
        "id": "RJWnVotampzz",
        "outputId": "468ea90d-785b-465f-dcd5-122931b91698"
      },
      "execution_count": null,
      "outputs": [
        {
          "output_type": "error",
          "ename": "ValueError",
          "evalue": "all the input arrays must have same number of dimensions, but the array at index 0 has 2 dimension(s) and the array at index 1 has 1 dimension(s)",
          "traceback": [
            "\u001b[0;31m---------------------------------------------------------------------------\u001b[0m",
            "\u001b[0;31mValueError\u001b[0m                                Traceback (most recent call last)",
            "\u001b[0;32m<ipython-input-190-ab59e66575e6>\u001b[0m in \u001b[0;36m<cell line: 0>\u001b[0;34m()\u001b[0m\n\u001b[1;32m      1\u001b[0m \u001b[0;31m# Concatenate x(and)v; if you get an error, observe and explain why did you get the error?\u001b[0m\u001b[0;34m\u001b[0m\u001b[0;34m\u001b[0m\u001b[0m\n\u001b[1;32m      2\u001b[0m \u001b[0;34m\u001b[0m\u001b[0m\n\u001b[0;32m----> 3\u001b[0;31m \u001b[0mconcatXV\u001b[0m \u001b[0;34m=\u001b[0m \u001b[0mnp\u001b[0m\u001b[0;34m.\u001b[0m\u001b[0mconcatenate\u001b[0m\u001b[0;34m(\u001b[0m\u001b[0;34m(\u001b[0m\u001b[0mx\u001b[0m\u001b[0;34m,\u001b[0m\u001b[0mv\u001b[0m\u001b[0;34m)\u001b[0m\u001b[0;34m,\u001b[0m \u001b[0maxis\u001b[0m\u001b[0;34m=\u001b[0m\u001b[0;36m0\u001b[0m\u001b[0;34m)\u001b[0m\u001b[0;34m\u001b[0m\u001b[0;34m\u001b[0m\u001b[0m\n\u001b[0m\u001b[1;32m      4\u001b[0m \u001b[0mprint\u001b[0m\u001b[0;34m(\u001b[0m\u001b[0mconcatXV\u001b[0m\u001b[0;34m)\u001b[0m\u001b[0;34m\u001b[0m\u001b[0;34m\u001b[0m\u001b[0m\n",
            "\u001b[0;31mValueError\u001b[0m: all the input arrays must have same number of dimensions, but the array at index 0 has 2 dimension(s) and the array at index 1 has 1 dimension(s)"
          ]
        }
      ]
    },
    {
      "cell_type": "markdown",
      "source": [
        "The reason to get this error is x and v have different dimensions. the dimensions of x is 2 and the dimension of v is 1"
      ],
      "metadata": {
        "id": "HiiLHgyem1Ah"
      }
    },
    {
      "cell_type": "markdown",
      "source": [
        "Problem 4"
      ],
      "metadata": {
        "id": "2Orv4OJ8n1Jo"
      }
    },
    {
      "cell_type": "code",
      "source": [
        "A = np.array([[3, 4], [7, 8]])\n",
        "B = np.array([[5, 3], [2, 1]])"
      ],
      "metadata": {
        "id": "n3WHv_enoIhB"
      },
      "execution_count": null,
      "outputs": []
    },
    {
      "cell_type": "code",
      "source": [
        "inverse = np.linalg.inv(A)\n",
        "identityMatrix = np.dot(A, inverse)\n",
        "identityMatrix = np.round(identityMatrix, decimals=5)\n",
        "print(identityMatrix)"
      ],
      "metadata": {
        "colab": {
          "base_uri": "https://localhost:8080/"
        },
        "id": "2hX2zM8UnZEO",
        "outputId": "0d4510cb-92e6-4c23-9586-9101fdd0a01b"
      },
      "execution_count": null,
      "outputs": [
        {
          "output_type": "stream",
          "name": "stdout",
          "text": [
            "[[1. 0.]\n",
            " [0. 1.]]\n"
          ]
        }
      ]
    },
    {
      "cell_type": "code",
      "source": [
        "AB = np.dot(A, B)\n",
        "BA = np.dot(B, A)\n",
        "\n",
        "if np.array_equal(AB, BA):\n",
        "    print(\"\\nAB = BA\")\n",
        "else:\n",
        "    print(\"\\nAB != BA\")"
      ],
      "metadata": {
        "colab": {
          "base_uri": "https://localhost:8080/"
        },
        "id": "QsNIi0QForPT",
        "outputId": "e2a36754-e1cf-44ee-d85a-278694e69c93"
      },
      "execution_count": null,
      "outputs": [
        {
          "output_type": "stream",
          "name": "stdout",
          "text": [
            "\n",
            "AB != BA\n"
          ]
        }
      ]
    },
    {
      "cell_type": "code",
      "source": [
        "abTranspose = np.transpose(AB)\n",
        "BtAt = np.dot(np.transpose(B), np.transpose(A))\n",
        "\n",
        "if np.array_equal(abTranspose, BtAt):\n",
        "    print(\"\\n(AB)^T = B^T * A^T\")\n",
        "else:\n",
        "    print(\"\\n(AB)^T != B^T * A^T\")"
      ],
      "metadata": {
        "colab": {
          "base_uri": "https://localhost:8080/"
        },
        "id": "lMZztCbhqvU_",
        "outputId": "665bd605-4d65-4e84-f1f7-4ded47a6222b"
      },
      "execution_count": null,
      "outputs": [
        {
          "output_type": "stream",
          "name": "stdout",
          "text": [
            "\n",
            "(AB)^T = B^T * A^T\n"
          ]
        }
      ]
    },
    {
      "cell_type": "code",
      "source": [
        "A = np.array([[2, -3, 1], [1, -1, 2], [3, 1, -1]])\n",
        "B = np.array([-1, -3, 9])\n",
        "\n",
        "AinvMatrix = np.linalg.inv(A)\n",
        "result = np.dot(AinvMatrix, B)\n",
        "print(result)"
      ],
      "metadata": {
        "colab": {
          "base_uri": "https://localhost:8080/"
        },
        "id": "Gz62WvJjrYkR",
        "outputId": "e3087e29-1c3d-4351-c27d-a6b743b7326c"
      },
      "execution_count": null,
      "outputs": [
        {
          "output_type": "stream",
          "name": "stdout",
          "text": [
            "[ 2.  1. -2.]\n"
          ]
        }
      ]
    },
    {
      "cell_type": "markdown",
      "source": [
        "Experiment"
      ],
      "metadata": {
        "id": "2Q_vn0wF3sa7"
      }
    },
    {
      "cell_type": "code",
      "source": [
        "import time\n",
        "import numpy as np"
      ],
      "metadata": {
        "id": "aJcdcbse4H-l"
      },
      "execution_count": 1,
      "outputs": []
    },
    {
      "cell_type": "code",
      "source": [
        "size = 1000000\n",
        "matSize = 1000"
      ],
      "metadata": {
        "id": "xoZBS2XE4ODz"
      },
      "execution_count": 2,
      "outputs": []
    },
    {
      "cell_type": "code",
      "source": [
        "lst1 = [i for i in range(size)]\n",
        "lst2 = [i for i in range(size)]"
      ],
      "metadata": {
        "id": "czGJH59B4ofa"
      },
      "execution_count": 4,
      "outputs": []
    },
    {
      "cell_type": "code",
      "source": [
        "Arr1 = np.arange(size)\n",
        "Arr2 = np.arange(size)"
      ],
      "metadata": {
        "id": "HrPyFYA04seM"
      },
      "execution_count": 6,
      "outputs": []
    },
    {
      "cell_type": "code",
      "source": [
        "#Element wise Addition\n",
        "strtTime = time.perf_counter()\n",
        "lstAdd = [lst1[i] + lst2[i] for i in range(size)]\n",
        "lstAdditionTime = time.perf_counter() - strtTime\n",
        "print(f\"Time taken for this operation on python lists : {lstAdditionTime:.5f} seconds\")"
      ],
      "metadata": {
        "colab": {
          "base_uri": "https://localhost:8080/"
        },
        "id": "39QG-zTh4-rJ",
        "outputId": "e9db7e09-3562-4628-bebc-597bc0fd8ff4"
      },
      "execution_count": 19,
      "outputs": [
        {
          "output_type": "stream",
          "name": "stdout",
          "text": [
            "Time taken for this operation on python lists : 0.15927 seconds\n"
          ]
        }
      ]
    },
    {
      "cell_type": "code",
      "source": [
        "strtTime1 = time.perf_counter()\n",
        "numpyAdd = Arr1 + Arr2\n",
        "numpyAddTime = time.perf_counter() - strtTime1\n",
        "print(f\"Time taken for this operation on Numpy array: {numpyAddTime:.5f} seconds\")"
      ],
      "metadata": {
        "colab": {
          "base_uri": "https://localhost:8080/"
        },
        "id": "Beux_wvO-QGn",
        "outputId": "19287226-cc5d-437e-bdfa-1cbb3ba4c6de"
      },
      "execution_count": 20,
      "outputs": [
        {
          "output_type": "stream",
          "name": "stdout",
          "text": [
            "Time taken for this operation on Numpy array: 0.00289 seconds\n"
          ]
        }
      ]
    },
    {
      "cell_type": "code",
      "source": [
        "#Element wise Multiplication\n",
        "strtTime = time.perf_counter()\n",
        "lstmul = [lst1[i] * lst2[i] for i in range(size)]\n",
        "listMulTime = time.perf_counter() - strtTime\n",
        "print(f\"\\nTime taken for this operation on Python Lists: {listMulTime:.5f} seconds\")"
      ],
      "metadata": {
        "colab": {
          "base_uri": "https://localhost:8080/"
        },
        "id": "1_0RHGHv6MK3",
        "outputId": "1bbef41c-fe9e-4342-a8fc-2c82e63e1087"
      },
      "execution_count": 17,
      "outputs": [
        {
          "output_type": "stream",
          "name": "stdout",
          "text": [
            "\n",
            "Time taken for this operation on Python Lists: 0.09273 seconds\n"
          ]
        }
      ]
    },
    {
      "cell_type": "code",
      "source": [
        "strtTime1 = time.perf_counter()\n",
        "numpyMul = Arr1 * Arr2\n",
        "numpyMulTime = time.perf_counter() - strtTime1\n",
        "print(f\"Time taken for this operation on Numpy array: {numpyMulTime:.5f} seconds\")"
      ],
      "metadata": {
        "colab": {
          "base_uri": "https://localhost:8080/"
        },
        "id": "fV8CXH8a-LvG",
        "outputId": "ed90182e-8b0f-47e5-f560-eb555cda282d"
      },
      "execution_count": 18,
      "outputs": [
        {
          "output_type": "stream",
          "name": "stdout",
          "text": [
            "Time taken for this operation on Numpy array: 0.00526 seconds\n"
          ]
        }
      ]
    },
    {
      "cell_type": "code",
      "source": [
        "#Dot Product\n",
        "strtTime = time.perf_counter()\n",
        "dotProduct = sum(lst1[i] * lst2[i] for i in range(size))\n",
        "lstDotTime = time.perf_counter() - strtTime\n",
        "print(f\"\\nTime taken for this operation on Python Lists: {lstDotTime:.5f} seconds\")\n",
        "\n"
      ],
      "metadata": {
        "colab": {
          "base_uri": "https://localhost:8080/"
        },
        "id": "b_SEEkrt7Cb8",
        "outputId": "2d48755f-64d2-4e6c-8c23-599f584afde0"
      },
      "execution_count": 15,
      "outputs": [
        {
          "output_type": "stream",
          "name": "stdout",
          "text": [
            "\n",
            "Time taken for this operation on Python Lists: 0.11365 seconds\n"
          ]
        }
      ]
    },
    {
      "cell_type": "code",
      "source": [
        "strtTime1 = time.perf_counter()\n",
        "numpyDotProd = np.dot(Arr1, Arr2)\n",
        "numpyDotTime = time.perf_counter() - strtTime1\n",
        "print(f\"Time taken for this operation on Numpy array: {numpyDotTime:.5f} seconds\")"
      ],
      "metadata": {
        "colab": {
          "base_uri": "https://localhost:8080/"
        },
        "id": "KFisx_6I-IL7",
        "outputId": "dc13892a-8988-4c0e-bbd4-27b32734ab4b"
      },
      "execution_count": 16,
      "outputs": [
        {
          "output_type": "stream",
          "name": "stdout",
          "text": [
            "Time taken for this operation on Numpy array: 0.00244 seconds\n"
          ]
        }
      ]
    },
    {
      "cell_type": "code",
      "source": [
        "#Matrix Multiplication\n",
        "lstMatrix1 = [[i for i in range(matSize)] for j in range(matSize)]\n",
        "lstMatrix2 = [[i for i in range(matSize)] for j in range(matSize)]"
      ],
      "metadata": {
        "id": "qhZE0bem8Gdx"
      },
      "execution_count": 21,
      "outputs": []
    },
    {
      "cell_type": "code",
      "source": [
        "numpy_matrix1 = np.arange(matSize ** 2).reshape(matSize, matSize)\n",
        "numpy_matrix2 = np.arange(matSize ** 2).reshape(matSize, matSize)"
      ],
      "metadata": {
        "id": "IVeqDQ2h8Qm-"
      },
      "execution_count": 22,
      "outputs": []
    },
    {
      "cell_type": "code",
      "source": [
        "strtTime = time.perf_counter()\n",
        "tMatrix = list(zip(*lstMatrix2))\n",
        "resultMat = [[sum(a * b for a, b in zip(row, col)) for col in tMatrix] for row in lstMatrix1]\n",
        "lstMatMulTime = time.perf_counter() - strtTime\n",
        "print(f\"\\nTime taken for this operation on Python List: {lstMatMulTime:.5f} seconds\")"
      ],
      "metadata": {
        "id": "oB1g9wfU80Kq"
      },
      "execution_count": null,
      "outputs": []
    },
    {
      "cell_type": "code",
      "source": [
        "strtTime1 = time.perf_counter()\n",
        "numpyMatMul = np.matmul(numpy_matrix1, numpy_matrix2)\n",
        "numpyMatMulTime = time.perf_counter() - strtTime1\n",
        "print(f\"Time taken for this operation on Numpy array: {numpyMatMulTime:.5f} seconds\")"
      ],
      "metadata": {
        "id": "xj3qEhz_9lrR"
      },
      "execution_count": null,
      "outputs": []
    }
  ]
}